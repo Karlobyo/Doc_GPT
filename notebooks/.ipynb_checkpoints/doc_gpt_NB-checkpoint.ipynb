{
 "cells": [
  {
   "cell_type": "markdown",
   "id": "e082744f",
   "metadata": {},
   "source": [
    "# Doc-GPT"
   ]
  },
  {
   "cell_type": "code",
   "execution_count": 1,
   "id": "47c738d9",
   "metadata": {},
   "outputs": [],
   "source": [
    "from transformers import pipeline"
   ]
  },
  {
   "cell_type": "code",
   "execution_count": 6,
   "id": "5c7fe247",
   "metadata": {},
   "outputs": [],
   "source": [
    "#!pip install tf-keras"
   ]
  },
  {
   "cell_type": "code",
   "execution_count": 7,
   "id": "ca429dec",
   "metadata": {},
   "outputs": [],
   "source": [
    "#!pip list "
   ]
  },
  {
   "cell_type": "markdown",
   "id": "a5b212ed",
   "metadata": {},
   "source": [
    "## a model that gives you answer about a specific text you are providing\n"
   ]
  },
  {
   "cell_type": "code",
   "execution_count": 9,
   "id": "ff8c0121",
   "metadata": {
    "scrolled": false
   },
   "outputs": [],
   "source": [
    "\n",
    "pipe_qa = pipeline(\"question-answering\", model=\"deepset/roberta-base-squad2\", device=1)"
   ]
  },
  {
   "cell_type": "code",
   "execution_count": 10,
   "id": "262b5079",
   "metadata": {},
   "outputs": [],
   "source": [
    "qa={\n",
    "    \"question\":\"What were the effect of the storm Debi?\",\n",
    "    \"context\": \"In Northern Ireland, the storm caused road closures and some disruption to the public transport network. NIE Networks said about 3,000 customers were without power, mainly around Craigavon, Newry and Downpatrick.\\\n",
    "On Tuesday afternoon, the Environment Agency had 15 flood warnings in place - meaning flooding is expected - and 102 lesser flood alerts.\"\n",
    "}"
   ]
  },
  {
   "cell_type": "code",
   "execution_count": 11,
   "id": "a3130858",
   "metadata": {},
   "outputs": [
    {
     "data": {
      "text/plain": [
       "{'score': 0.0006679550861008465,\n",
       " 'start': 38,\n",
       " 'end': 103,\n",
       " 'answer': 'road closures and some disruption to the public transport network'}"
      ]
     },
     "execution_count": 11,
     "metadata": {},
     "output_type": "execute_result"
    }
   ],
   "source": [
    "pipe_qa(qa)"
   ]
  },
  {
   "cell_type": "code",
   "execution_count": 12,
   "id": "a45d96e1",
   "metadata": {},
   "outputs": [
    {
     "data": {
      "text/plain": [
       "'road closures and some disruption to the public transport network'"
      ]
     },
     "execution_count": 12,
     "metadata": {},
     "output_type": "execute_result"
    }
   ],
   "source": [
    "pipe_qa_answer = pipe_qa(qa)[\"answer\"]\n",
    "pipe_qa_answer"
   ]
  },
  {
   "cell_type": "markdown",
   "id": "234323b3",
   "metadata": {},
   "source": [
    "## a model for summarization"
   ]
  },
  {
   "cell_type": "code",
   "execution_count": 4,
   "id": "730cdb44",
   "metadata": {},
   "outputs": [
    {
     "data": {
      "application/vnd.jupyter.widget-view+json": {
       "model_id": "43ba8065c46a498ba9f735ced4526c3c",
       "version_major": 2,
       "version_minor": 0
      },
      "text/plain": [
       "config.json:   0%|          | 0.00/1.59k [00:00<?, ?B/s]"
      ]
     },
     "metadata": {},
     "output_type": "display_data"
    },
    {
     "data": {
      "application/vnd.jupyter.widget-view+json": {
       "model_id": "c026a6fbd31042f0914480002833d251",
       "version_major": 2,
       "version_minor": 0
      },
      "text/plain": [
       "pytorch_model.bin:   0%|          | 0.00/611M [00:00<?, ?B/s]"
      ]
     },
     "metadata": {},
     "output_type": "display_data"
    },
    {
     "data": {
      "application/vnd.jupyter.widget-view+json": {
       "model_id": "2387b66932d54a6cafdec49fd7f3a98d",
       "version_major": 2,
       "version_minor": 0
      },
      "text/plain": [
       "tokenizer_config.json:   0%|          | 0.00/26.0 [00:00<?, ?B/s]"
      ]
     },
     "metadata": {},
     "output_type": "display_data"
    },
    {
     "data": {
      "application/vnd.jupyter.widget-view+json": {
       "model_id": "b050c7d8ba9b45e99ed1e9b9f83df7a5",
       "version_major": 2,
       "version_minor": 0
      },
      "text/plain": [
       "vocab.json:   0%|          | 0.00/899k [00:00<?, ?B/s]"
      ]
     },
     "metadata": {},
     "output_type": "display_data"
    },
    {
     "data": {
      "application/vnd.jupyter.widget-view+json": {
       "model_id": "9b3f30b72428475d8c332eb0644f1758",
       "version_major": 2,
       "version_minor": 0
      },
      "text/plain": [
       "merges.txt:   0%|          | 0.00/456k [00:00<?, ?B/s]"
      ]
     },
     "metadata": {},
     "output_type": "display_data"
    },
    {
     "name": "stderr",
     "output_type": "stream",
     "text": [
      "/Users/carlobarbini/.pyenv/versions/3.10.6/envs/doc-gpt-env/lib/python3.10/site-packages/transformers/tokenization_utils_base.py:1601: FutureWarning: `clean_up_tokenization_spaces` was not set. It will be set to `True` by default. This behavior will be depracted in transformers v4.45, and will be then set to `False` by default. For more details check this issue: https://github.com/huggingface/transformers/issues/31884\n",
      "  warnings.warn(\n",
      "Hardware accelerator e.g. GPU is available in the environment, but no `device` argument is passed to the `Pipeline` object. Model will be on CPU.\n"
     ]
    }
   ],
   "source": [
    "pipe_summary = pipeline(\"summarization\", model=\"sshleifer/distilbart-xsum-12-6\")"
   ]
  },
  {
   "cell_type": "code",
   "execution_count": 5,
   "id": "7536ee73",
   "metadata": {},
   "outputs": [
    {
     "data": {
      "text/plain": [
       "[{'summary_text': 'Storm Debi has brought heavy rain and wind to parts of the UK.'}]"
      ]
     },
     "execution_count": 5,
     "metadata": {},
     "output_type": "execute_result"
    }
   ],
   "source": [
    "pipe_summary(\"A yellow warning for thunderstorms was in place for south-east England, parts of the south coast and London until 15:00 GMT on Tuesday. It follows stormy conditions across northern England and Scotland, with gusts of more than 70mph (112.7km/h) recorded in Wales and Northern Ireland. Debi is the fourth named storm of this winter so far. \\\n",
    "The rain and wind first hit Northern Ireland and the Republic of Ireland, then Wales, before moving eastwards and into the North Sea on Monday evening.\\\n",
    "In Northern Ireland, the storm caused road closures and some disruption to the public transport network. NIE Networks said about 3,000 customers were without power, mainly around Craigavon, Newry and Downpatrick.\\\n",
    "On Tuesday afternoon, the Environment Agency had 15 flood warnings in place - meaning flooding is expected - and 102 lesser flood alerts.\")"
   ]
  },
  {
   "cell_type": "code",
   "execution_count": 7,
   "id": "4e9cae0a",
   "metadata": {},
   "outputs": [],
   "source": [
    "response = pipe_summary(\"A yellow warning for thunderstorms was in place for south-east England, parts of the south coast and London until 15:00 GMT on Tuesday. It follows stormy conditions across northern England and Scotland, with gusts of more than 70mph (112.7km/h) recorded in Wales and Northern Ireland. Debi is the fourth named storm of this winter so far. \\\n",
    "The rain and wind first hit Northern Ireland and the Republic of Ireland, then Wales, before moving eastwards and into the North Sea on Monday evening.\\\n",
    "In Northern Ireland, the storm caused road closures and some disruption to the public transport network. NIE Networks said about 3,000 customers were without power, mainly around Craigavon, Newry and Downpatrick.\\\n",
    "On Tuesday afternoon, the Environment Agency had 15 flood warnings in place - meaning flooding is expected - and 102 lesser flood alerts.\")[0][\"summary_text\"]"
   ]
  },
  {
   "cell_type": "code",
   "execution_count": 8,
   "id": "c794f1ab",
   "metadata": {},
   "outputs": [
    {
     "data": {
      "text/plain": [
       "'Storm Debi has brought heavy rain and wind to parts of the UK.'"
      ]
     },
     "execution_count": 8,
     "metadata": {},
     "output_type": "execute_result"
    }
   ],
   "source": [
    "response"
   ]
  },
  {
   "cell_type": "markdown",
   "id": "91b50e83",
   "metadata": {},
   "source": [
    "## a model to give you answers about a specific document"
   ]
  },
  {
   "cell_type": "code",
   "execution_count": 2,
   "id": "0496cda9",
   "metadata": {},
   "outputs": [
    {
     "name": "stderr",
     "output_type": "stream",
     "text": [
      "Some weights of the model checkpoint at impira/layoutlm-invoices were not used when initializing LayoutLMForQuestionAnswering: ['token_classifier_head.bias', 'token_classifier_head.weight']\n",
      "- This IS expected if you are initializing LayoutLMForQuestionAnswering from the checkpoint of a model trained on another task or with another architecture (e.g. initializing a BertForSequenceClassification model from a BertForPreTraining model).\n",
      "- This IS NOT expected if you are initializing LayoutLMForQuestionAnswering from the checkpoint of a model that you expect to be exactly identical (initializing a BertForSequenceClassification model from a BertForSequenceClassification model).\n",
      "/Users/carlobarbini/.pyenv/versions/3.10.6/envs/doc-gpt-env/lib/python3.10/site-packages/transformers/tokenization_utils_base.py:1601: FutureWarning: `clean_up_tokenization_spaces` was not set. It will be set to `True` by default. This behavior will be depracted in transformers v4.45, and will be then set to `False` by default. For more details check this issue: https://github.com/huggingface/transformers/issues/31884\n",
      "  warnings.warn(\n",
      "Hardware accelerator e.g. GPU is available in the environment, but no `device` argument is passed to the `Pipeline` object. Model will be on CPU.\n"
     ]
    }
   ],
   "source": [
    "pipe_mm = pipeline(\"document-question-answering\", model=\"impira/layoutlm-invoices\")"
   ]
  },
  {
   "cell_type": "code",
   "execution_count": 12,
   "id": "2069ac12",
   "metadata": {},
   "outputs": [
    {
     "name": "stdout",
     "output_type": "stream",
     "text": [
      "pytesseract                       0.3.13\r\n"
     ]
    }
   ],
   "source": [
    "!pip list | grep pytesseract"
   ]
  },
  {
   "cell_type": "code",
   "execution_count": 14,
   "id": "03f3f974",
   "metadata": {
    "scrolled": false
   },
   "outputs": [
    {
     "data": {
      "text/plain": [
       "[{'score': 0.9964991211891174, 'answer': '$2.89', 'start': 23, 'end': 23}]"
      ]
     },
     "execution_count": 14,
     "metadata": {},
     "output_type": "execute_result"
    }
   ],
   "source": [
    "pipe_mm(\"https://wagon-public-datasets.s3.amazonaws.com/data-science-images/lectures/Transformers/receipt.webp\",\n",
    "    \"How much was the eggs cost?\"\n",
    ")"
   ]
  },
  {
   "cell_type": "code",
   "execution_count": null,
   "id": "f6820504",
   "metadata": {},
   "outputs": [],
   "source": [
    "pipe_mm = pipeline(\"document-question-answering\", model=\"impira/layoutlm-invoices\")"
   ]
  },
  {
   "cell_type": "code",
   "execution_count": null,
   "id": "350cd28e",
   "metadata": {},
   "outputs": [],
   "source": []
  },
  {
   "cell_type": "code",
   "execution_count": null,
   "id": "325d8ec7",
   "metadata": {},
   "outputs": [],
   "source": []
  },
  {
   "cell_type": "code",
   "execution_count": null,
   "id": "ed3dc7c4",
   "metadata": {},
   "outputs": [],
   "source": []
  },
  {
   "cell_type": "markdown",
   "id": "c5a7e820",
   "metadata": {},
   "source": [
    "This is the only conversational model I found from Hugging Face..."
   ]
  },
  {
   "cell_type": "code",
   "execution_count": 15,
   "id": "310c25be",
   "metadata": {},
   "outputs": [
    {
     "name": "stdout",
     "output_type": "stream",
     "text": [
      " They are a group of people who are in charge of the physical, emotional, social, and intellectual development of a person.\n"
     ]
    }
   ],
   "source": [
    "from transformers import BlenderbotTokenizer, BlenderbotForConditionalGeneration\n",
    "\n",
    "# Load BlenderBot model and tokenizer\n",
    "model_name = \"facebook/blenderbot-400M-distill\"\n",
    "tokenizer = BlenderbotTokenizer.from_pretrained(model_name)\n",
    "model = BlenderbotForConditionalGeneration.from_pretrained(model_name)\n",
    "\n",
    "# Interact with BlenderBot\n",
    "inputs = tokenizer(\"What are menstruations?\", return_tensors=\"pt\")\n",
    "reply_ids = model.generate(**inputs)\n",
    "print(tokenizer.decode(reply_ids[0], skip_special_tokens=True))\n"
   ]
  },
  {
   "cell_type": "code",
   "execution_count": null,
   "id": "06cfa50b",
   "metadata": {},
   "outputs": [],
   "source": []
  },
  {
   "cell_type": "code",
   "execution_count": null,
   "id": "fa835adb",
   "metadata": {},
   "outputs": [],
   "source": []
  },
  {
   "cell_type": "code",
   "execution_count": null,
   "id": "17776c20",
   "metadata": {},
   "outputs": [],
   "source": []
  },
  {
   "cell_type": "code",
   "execution_count": null,
   "id": "26cef1ae",
   "metadata": {},
   "outputs": [],
   "source": []
  },
  {
   "cell_type": "code",
   "execution_count": null,
   "id": "d840cb0c",
   "metadata": {},
   "outputs": [],
   "source": []
  },
  {
   "cell_type": "code",
   "execution_count": null,
   "id": "4e6e22aa",
   "metadata": {},
   "outputs": [],
   "source": []
  }
 ],
 "metadata": {
  "kernelspec": {
   "display_name": "Python 3 (ipykernel)",
   "language": "python",
   "name": "python3"
  },
  "language_info": {
   "codemirror_mode": {
    "name": "ipython",
    "version": 3
   },
   "file_extension": ".py",
   "mimetype": "text/x-python",
   "name": "python",
   "nbconvert_exporter": "python",
   "pygments_lexer": "ipython3",
   "version": "3.10.6"
  },
  "toc": {
   "base_numbering": 1,
   "nav_menu": {},
   "number_sections": true,
   "sideBar": true,
   "skip_h1_title": false,
   "title_cell": "Table of Contents",
   "title_sidebar": "Contents",
   "toc_cell": false,
   "toc_position": {},
   "toc_section_display": true,
   "toc_window_display": false
  }
 },
 "nbformat": 4,
 "nbformat_minor": 5
}
